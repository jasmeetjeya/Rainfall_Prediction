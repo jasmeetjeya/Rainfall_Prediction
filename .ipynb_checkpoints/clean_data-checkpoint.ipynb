{
 "cells": [
  {
   "cell_type": "markdown",
   "id": "deee2db0-1757-47a5-aa48-f51b42178986",
   "metadata": {},
   "source": [
    "***clean data***"
   ]
  },
  {
   "cell_type": "code",
   "execution_count": 1,
   "id": "65bfb1d4-8d0e-4658-b816-cd597e2aa44b",
   "metadata": {},
   "outputs": [],
   "source": [
    "import pandas as pd"
   ]
  },
  {
   "cell_type": "code",
   "execution_count": 2,
   "id": "11066448-9866-48d4-8335-3b3dd24be781",
   "metadata": {},
   "outputs": [],
   "source": [
    "import numpy as np"
   ]
  },
  {
   "cell_type": "code",
   "execution_count": 3,
   "id": "4ed712c6-fb48-4a24-a55b-97d7c939eed8",
   "metadata": {},
   "outputs": [],
   "source": [
    "data = pd.read_csv(\"austin_weather.csv\")"
   ]
  },
  {
   "cell_type": "code",
   "execution_count": 4,
   "id": "0420211d-836b-4734-8155-003c36a47482",
   "metadata": {},
   "outputs": [],
   "source": [
    "data=data.drop(['Events','SeaLevelPressureHighInches','SeaLevelPressureLowInches','Date'],axis=1)"
   ]
  },
  {
   "cell_type": "code",
   "execution_count": 5,
   "id": "82c73ade-49d1-4ee6-81f8-04598cf4a751",
   "metadata": {},
   "outputs": [],
   "source": [
    "data=data.replace('T',0.0)"
   ]
  },
  {
   "cell_type": "code",
   "execution_count": 6,
   "id": "1b78b2e6-86af-4936-99ea-660eb9d65caf",
   "metadata": {},
   "outputs": [],
   "source": [
    "data=data.replace('-',0.0)"
   ]
  },
  {
   "cell_type": "code",
   "execution_count": 8,
   "id": "8df0eb25-bf1c-427f-b855-07286faf0641",
   "metadata": {},
   "outputs": [],
   "source": [
    "data.to_csv(\"austin_final.csv\")"
   ]
  },
  {
   "cell_type": "code",
   "execution_count": null,
   "id": "531f04d9-a3d3-4ef7-aa75-d45fecd4358e",
   "metadata": {},
   "outputs": [],
   "source": []
  }
 ],
 "metadata": {
  "kernelspec": {
   "display_name": "Python 3 (ipykernel)",
   "language": "python",
   "name": "python3"
  },
  "language_info": {
   "codemirror_mode": {
    "name": "ipython",
    "version": 3
   },
   "file_extension": ".py",
   "mimetype": "text/x-python",
   "name": "python",
   "nbconvert_exporter": "python",
   "pygments_lexer": "ipython3",
   "version": "3.12.4"
  }
 },
 "nbformat": 4,
 "nbformat_minor": 5
}
